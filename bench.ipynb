{
 "cells": [
  {
   "cell_type": "code",
   "execution_count": 32,
   "metadata": {},
   "outputs": [
    {
     "name": "stdout",
     "output_type": "stream",
     "text": [
      "Status code: 200\n",
      "Response: [{'end_time': '2023-11-18T16:00:00', 'location': 'Georgia Tech Campus', 'name': 'Film Shoot: Tech Square Times Production Day', 'start_time': '2023-11-18T09:00:00'}, {'end_time': None, 'location': 'Bobby Dodd Stadium at Hyundai Field', 'name': 'Football vs. Syracuse', 'start_time': '2023-11-18T20:00:00'}, {'end_time': '2023-11-19T22:30:00', 'location': 'DramaTech Theatre, Behind the Ferst Center for the Arts', 'name': 'DramaTech Presents Puffs Or: Seven Increasingly Eventful Years in a Certain School of Magic and Magic', 'start_time': '2023-11-19T20:00:00'}, {'end_time': None, 'location': \"O'Keefe Gymnasium\", 'name': 'Volleyball vs. Syracuse', 'start_time': '2023-11-19T12:00:00'}, {'end_time': None, 'location': 'McCamish Pavilion', 'name': \"Women's Basketball vs. Kennesaw State\", 'start_time': '2023-11-19T14:00:00'}, {'end_time': '2023-11-20T12:00:00', 'location': 'Online', 'name': 'Manager Self-Service Transactions', 'start_time': '2023-11-20T10:00:00'}, {'end_time': '2023-11-20T13:30:00', 'location': 'Online', 'name': 'Solving the Policy Puzzle of Generative AI', 'start_time': '2023-11-20T12:30:00'}]\n"
     ]
    }
   ],
   "source": [
    "import requests\n",
    "import json\n",
    "\n",
    "url = 'http://127.0.0.1:5000/process_file'\n",
    "data = open(\"email_shriyae3.txt\").read() # data is the email data, change it accordingly\n",
    "data = {'data': data}\n",
    "\n",
    "response = requests.post(url, json=data)\n",
    "\n",
    "print(f'Status code: {response.status_code}')\n",
    "print(f'Response: {response.json()}')\n",
    "\n",
    "stuff = response.json()\n",
    "\n",
    "with open('event_data.json', 'w') as file:\n",
    "    json.dump(stuff, file)\n"
   ]
  },
  {
   "cell_type": "code",
   "execution_count": null,
   "metadata": {},
   "outputs": [],
   "source": []
  },
  {
   "cell_type": "code",
   "execution_count": null,
   "metadata": {},
   "outputs": [],
   "source": []
  }
 ],
 "metadata": {
  "kernelspec": {
   "display_name": "myenv",
   "language": "python",
   "name": "python3"
  },
  "language_info": {
   "codemirror_mode": {
    "name": "ipython",
    "version": 3
   },
   "file_extension": ".py",
   "mimetype": "text/x-python",
   "name": "python",
   "nbconvert_exporter": "python",
   "pygments_lexer": "ipython3",
   "version": "3.11.4"
  }
 },
 "nbformat": 4,
 "nbformat_minor": 2
}
