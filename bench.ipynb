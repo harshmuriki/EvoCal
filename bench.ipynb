{
 "cells": [
  {
   "cell_type": "code",
   "execution_count": 61,
   "metadata": {},
   "outputs": [
    {
     "name": "stdout",
     "output_type": "stream",
     "text": [
      "Status code: 200\n"
     ]
    }
   ],
   "source": [
    "import requests\n",
    "\n",
    "url = 'https://evocalllm-3l6j2umkza-uc.a.run.app/process_file'\n",
    "data = open('email_chinarshital.txt', 'r').read()\n",
    "data = {'data': data}\n",
    "\n",
    "response = requests.post(url, json=data)\n",
    "\n",
    "print(f'Status code: {response.status_code}')\n",
    "stuff = response.json()"
   ]
  },
  {
   "cell_type": "code",
   "execution_count": 62,
   "metadata": {},
   "outputs": [
    {
     "data": {
      "text/plain": [
       "[{'location': 'Georgia Tech Campus',\n",
       "  'name': 'Film Shoot: Tech Square Times Production Day',\n",
       "  'time': 'Saturday, Nov. 18, 9 a.m. – 4 p.m.'},\n",
       " {'location': 'Bobby Dodd Stadium at Hyundai Field',\n",
       "  'name': 'Football vs. Syracuse',\n",
       "  'time': 'Saturday, Nov. 18, 8 p.m.'},\n",
       " {'location': 'DramaTech Theatre, Behind the Ferst Center for the Arts',\n",
       "  'name': 'DramaTech Presents Puffs Or: Seven Increasingly Eventful Years in a Certain School of Magic and Magic',\n",
       "  'time': 'Saturday, Nov. 19, 8 – 10:30 p.m.'},\n",
       " {'location': \"O'Keefe Gymnasium\",\n",
       "  'name': 'Volleyball vs. Syracuse',\n",
       "  'time': 'Sunday, Nov. 19, Noon'},\n",
       " {'location': 'McCamish Pavilion',\n",
       "  'name': \"Women's Basketball vs. Kennesaw State\",\n",
       "  'time': 'Sunday, Nov. 19, 2 p.m.'},\n",
       " {'location': 'Online',\n",
       "  'name': 'Manager Self-Service Transactions',\n",
       "  'time': 'Monday, Nov. 20, 10 a.m. – noon'},\n",
       " {'location': 'Online',\n",
       "  'name': 'Solving the Policy Puzzle of Generative AI',\n",
       "  'time': 'Monday, Nov. 20, 12:30 – 1:30 p.m.'},\n",
       " {'location': 'Georgia Tech Campus',\n",
       "  'name': 'Thanksgiving Break: No Classes',\n",
       "  'time': 'Wednesday, Nov. 22'},\n",
       " {'location': 'Georgia Tech Campus',\n",
       "  'name': 'Thanksgiving Break: Campus Closed',\n",
       "  'time': 'Nov. 23 – 24'}]"
      ]
     },
     "execution_count": 62,
     "metadata": {},
     "output_type": "execute_result"
    }
   ],
   "source": [
    "stuff"
   ]
  },
  {
   "cell_type": "code",
   "execution_count": null,
   "metadata": {},
   "outputs": [],
   "source": []
  }
 ],
 "metadata": {
  "kernelspec": {
   "display_name": "myenv",
   "language": "python",
   "name": "python3"
  },
  "language_info": {
   "codemirror_mode": {
    "name": "ipython",
    "version": 3
   },
   "file_extension": ".py",
   "mimetype": "text/x-python",
   "name": "python",
   "nbconvert_exporter": "python",
   "pygments_lexer": "ipython3",
   "version": "3.11.4"
  }
 },
 "nbformat": 4,
 "nbformat_minor": 2
}
