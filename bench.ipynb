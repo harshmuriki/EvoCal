{
 "cells": [
  {
   "cell_type": "code",
   "execution_count": 22,
   "metadata": {},
   "outputs": [
    {
     "name": "stdout",
     "output_type": "stream",
     "text": [
      "Status code: 200\n",
      "Response: {'error': 'Object of type set is not JSON serializable'}\n"
     ]
    }
   ],
   "source": [
    "import requests\n",
    "import json\n",
    "\n",
    "url = 'http://127.0.0.1:5000/calendar_invite'\n",
    "data = 'ya29.a0AfB_byAAV83tquY9-bTcVrf0NsA3h1ZJLapQCCtq2AeZwmXvhCOvvcqjV_nAjxVNkX52RQvovLEESFMlMOz9IKTvma0UFhowCJC2P5aWO7wEpILOA2YdRHExzOebp03L3-BrYX_S5XrlbgprAuVNLplOGPmSMIQO6CkSaCgYKAToSARESFQHGX2MivmVd3fapNYf9xyuxBAKJXA0171'\n",
    "body = [[{'end_time': '2023-11-19T17:00:00', 'location': 'Eden Park', 'name': 'New Team Meeting', 'start_time': '2023-11-19T16:00:00'}]]\n",
    "data = {'data': data, 'body': body }\n",
    "\n",
    "response = requests.post(url, json=data)\n",
    "\n",
    "print(f'Status code: {response.status_code}')\n",
    "print(f'Response: {response.json()}')\n",
    "\n",
    "stuff = response.json()\n",
    "with open('event_data.json', 'w') as file:\n",
    "    json.dump(stuff, file)\n"
   ]
  },
  {
   "cell_type": "code",
   "execution_count": null,
   "metadata": {},
   "outputs": [],
   "source": []
  },
  {
   "cell_type": "code",
   "execution_count": null,
   "metadata": {},
   "outputs": [],
   "source": []
  }
 ],
 "metadata": {
  "kernelspec": {
   "display_name": "myenv",
   "language": "python",
   "name": "python3"
  },
  "language_info": {
   "codemirror_mode": {
    "name": "ipython",
    "version": 3
   },
   "file_extension": ".py",
   "mimetype": "text/x-python",
   "name": "python",
   "nbconvert_exporter": "python",
   "pygments_lexer": "ipython3",
   "version": "3.12.0"
  }
 },
 "nbformat": 4,
 "nbformat_minor": 2
}
