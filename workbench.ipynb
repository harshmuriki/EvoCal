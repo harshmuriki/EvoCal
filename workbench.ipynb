{
 "cells": [
  {
   "cell_type": "code",
   "execution_count": 10,
   "metadata": {},
   "outputs": [],
   "source": [
    "from orchestration.main import *\n",
    "import mysql.connector\n",
    "from datetime import datetime\n",
    "import requests"
   ]
  },
  {
   "cell_type": "code",
   "execution_count": 11,
   "metadata": {},
   "outputs": [],
   "source": [
    "def get_cloud_sql_connection():\n",
    "    config = {\n",
    "        'user': 'root',\n",
    "        'password': 'aXbT|^DvTzMf%uga',\n",
    "        'host': '34.69.56.41',\n",
    "        'database': 'token_store',\n",
    "        'raise_on_warnings': True\n",
    "    }\n",
    "\n",
    "    try:\n",
    "        cnx = mysql.connector.connect(**config)\n",
    "        cursor = cnx.cursor()\n",
    "        return cnx, cursor\n",
    "    except mysql.connector.Error as err:\n",
    "        print(f\"Error: {err}\")\n",
    "\n",
    "def process_tokens():\n",
    "    cnx, cursor = get_cloud_sql_connection()\n",
    "\n",
    "    try:\n",
    "        \n",
    "        query = \"SELECT token_string FROM token_store\"\n",
    "        cursor.execute(query)\n",
    "        # Iterate over each token\n",
    "        for (token,) in cursor:\n",
    "            print(token)\n",
    "            print(type(token))\n",
    "            gmail_endpoint = \"https://gmailpackage-3l6j2umkza-uc.a.run.app\"\n",
    "            llm_endpoint = \"https://messageparsing-3l6j2umkza-uc.a.run.app\"\n",
    "            calendar_endpoint = \"https://calendarpackage-3l6j2umkza-uc.a.run.app\"\n",
    "\n",
    "            first_response = requests.post(gmail_endpoint, json={'data': token})\n",
    "            print(first_response)\n",
    "            print('here1')\n",
    "            second_response = requests.post(llm_endpoint, json={'data': first_response}).json()\n",
    "            print('here2')\n",
    "            third_response = requests.post(calendar_endpoint, json={'data': token, 'body': second_response}).json()\n",
    "            print('here3')\n",
    "    except mysql.connector.Error as err:\n",
    "        print(f\"Error: {err}\")\n",
    "    except requests.RequestException as e:\n",
    "        print(f\"HTTP Request Error: {e}\")\n",
    "    finally:\n",
    "        if cursor:\n",
    "            cursor.close()\n",
    "        if cnx:\n",
    "            cnx.close()\n",
    "\n",
    "\n",
    "    cursor.close()\n",
    "    cnx.close()"
   ]
  },
  {
   "cell_type": "code",
   "execution_count": 12,
   "metadata": {},
   "outputs": [
    {
     "ename": "KeyboardInterrupt",
     "evalue": "",
     "output_type": "error",
     "traceback": [
      "\u001b[0;31m---------------------------------------------------------------------------\u001b[0m",
      "\u001b[0;31mMySQLInterfaceError\u001b[0m                       Traceback (most recent call last)",
      "File \u001b[0;32m/Library/Frameworks/Python.framework/Versions/3.11/lib/python3.11/site-packages/mysql/connector/connection_cext.py:308\u001b[0m, in \u001b[0;36mCMySQLConnection._open_connection\u001b[0;34m(self)\u001b[0m\n\u001b[1;32m    307\u001b[0m \u001b[39mtry\u001b[39;00m:\n\u001b[0;32m--> 308\u001b[0m     \u001b[39mself\u001b[39;49m\u001b[39m.\u001b[39;49m_cmysql\u001b[39m.\u001b[39;49mconnect(\u001b[39m*\u001b[39;49m\u001b[39m*\u001b[39;49mcnx_kwargs)\n\u001b[1;32m    309\u001b[0m     \u001b[39mself\u001b[39m\u001b[39m.\u001b[39m_cmysql\u001b[39m.\u001b[39mconverter_str_fallback \u001b[39m=\u001b[39m \u001b[39mself\u001b[39m\u001b[39m.\u001b[39m_converter_str_fallback\n",
      "\u001b[0;31mMySQLInterfaceError\u001b[0m: Can't connect to MySQL server on '34.69.56.41:3306' (56)",
      "\nDuring handling of the above exception, another exception occurred:\n",
      "\u001b[0;31mKeyboardInterrupt\u001b[0m                         Traceback (most recent call last)",
      "\u001b[1;32m/Users/chinardankhara/Documents/GitHub/EvoCal/workbench.ipynb Cell 3\u001b[0m line \u001b[0;36m9\n\u001b[1;32m      <a href='vscode-notebook-cell:/Users/chinardankhara/Documents/GitHub/EvoCal/workbench.ipynb#W4sZmlsZQ%3D%3D?line=0'>1</a>\u001b[0m config \u001b[39m=\u001b[39m {\n\u001b[1;32m      <a href='vscode-notebook-cell:/Users/chinardankhara/Documents/GitHub/EvoCal/workbench.ipynb#W4sZmlsZQ%3D%3D?line=1'>2</a>\u001b[0m         \u001b[39m'\u001b[39m\u001b[39muser\u001b[39m\u001b[39m'\u001b[39m: \u001b[39m'\u001b[39m\u001b[39mroot\u001b[39m\u001b[39m'\u001b[39m,\n\u001b[1;32m      <a href='vscode-notebook-cell:/Users/chinardankhara/Documents/GitHub/EvoCal/workbench.ipynb#W4sZmlsZQ%3D%3D?line=2'>3</a>\u001b[0m         \u001b[39m'\u001b[39m\u001b[39mpassword\u001b[39m\u001b[39m'\u001b[39m: \u001b[39m'\u001b[39m\u001b[39maXbT|^DvTzMf\u001b[39m\u001b[39m%u\u001b[39;00m\u001b[39mga\u001b[39m\u001b[39m'\u001b[39m,\n\u001b[0;32m   (...)\u001b[0m\n\u001b[1;32m      <a href='vscode-notebook-cell:/Users/chinardankhara/Documents/GitHub/EvoCal/workbench.ipynb#W4sZmlsZQ%3D%3D?line=5'>6</a>\u001b[0m         \u001b[39m'\u001b[39m\u001b[39mraise_on_warnings\u001b[39m\u001b[39m'\u001b[39m: \u001b[39mTrue\u001b[39;00m\n\u001b[1;32m      <a href='vscode-notebook-cell:/Users/chinardankhara/Documents/GitHub/EvoCal/workbench.ipynb#W4sZmlsZQ%3D%3D?line=6'>7</a>\u001b[0m     }\n\u001b[0;32m----> <a href='vscode-notebook-cell:/Users/chinardankhara/Documents/GitHub/EvoCal/workbench.ipynb#W4sZmlsZQ%3D%3D?line=8'>9</a>\u001b[0m cnx \u001b[39m=\u001b[39m mysql\u001b[39m.\u001b[39;49mconnector\u001b[39m.\u001b[39;49mconnect(\u001b[39m*\u001b[39;49m\u001b[39m*\u001b[39;49mconfig)\n\u001b[1;32m     <a href='vscode-notebook-cell:/Users/chinardankhara/Documents/GitHub/EvoCal/workbench.ipynb#W4sZmlsZQ%3D%3D?line=9'>10</a>\u001b[0m cursor \u001b[39m=\u001b[39m cnx\u001b[39m.\u001b[39mcursor()\n",
      "File \u001b[0;32m/Library/Frameworks/Python.framework/Versions/3.11/lib/python3.11/site-packages/mysql/connector/pooling.py:293\u001b[0m, in \u001b[0;36mconnect\u001b[0;34m(*args, **kwargs)\u001b[0m\n\u001b[1;32m    290\u001b[0m         \u001b[39mraise\u001b[39;00m \u001b[39mImportError\u001b[39;00m(ERROR_NO_CEXT)\n\u001b[1;32m    292\u001b[0m \u001b[39mif\u001b[39;00m CMySQLConnection \u001b[39mand\u001b[39;00m \u001b[39mnot\u001b[39;00m use_pure:\n\u001b[0;32m--> 293\u001b[0m     \u001b[39mreturn\u001b[39;00m CMySQLConnection(\u001b[39m*\u001b[39;49margs, \u001b[39m*\u001b[39;49m\u001b[39m*\u001b[39;49mkwargs)\n\u001b[1;32m    294\u001b[0m \u001b[39mreturn\u001b[39;00m MySQLConnection(\u001b[39m*\u001b[39margs, \u001b[39m*\u001b[39m\u001b[39m*\u001b[39mkwargs)\n",
      "File \u001b[0;32m/Library/Frameworks/Python.framework/Versions/3.11/lib/python3.11/site-packages/mysql/connector/connection_cext.py:129\u001b[0m, in \u001b[0;36mCMySQLConnection.__init__\u001b[0;34m(self, **kwargs)\u001b[0m\n\u001b[1;32m    127\u001b[0m \u001b[39mif\u001b[39;00m kwargs:\n\u001b[1;32m    128\u001b[0m     \u001b[39mtry\u001b[39;00m:\n\u001b[0;32m--> 129\u001b[0m         \u001b[39mself\u001b[39;49m\u001b[39m.\u001b[39;49mconnect(\u001b[39m*\u001b[39;49m\u001b[39m*\u001b[39;49mkwargs)\n\u001b[1;32m    130\u001b[0m     \u001b[39mexcept\u001b[39;00m \u001b[39mException\u001b[39;00m:\n\u001b[1;32m    131\u001b[0m         \u001b[39mself\u001b[39m\u001b[39m.\u001b[39mclose()\n",
      "File \u001b[0;32m/Library/Frameworks/Python.framework/Versions/3.11/lib/python3.11/site-packages/mysql/connector/abstracts.py:1237\u001b[0m, in \u001b[0;36mMySQLConnectionAbstract.connect\u001b[0;34m(self, **kwargs)\u001b[0m\n\u001b[1;32m   1234\u001b[0m     \u001b[39mself\u001b[39m\u001b[39m.\u001b[39mconfig(\u001b[39m*\u001b[39m\u001b[39m*\u001b[39mkwargs)\n\u001b[1;32m   1236\u001b[0m \u001b[39mself\u001b[39m\u001b[39m.\u001b[39mdisconnect()\n\u001b[0;32m-> 1237\u001b[0m \u001b[39mself\u001b[39;49m\u001b[39m.\u001b[39;49m_open_connection()\n\u001b[1;32m   1239\u001b[0m charset, collation \u001b[39m=\u001b[39m (\n\u001b[1;32m   1240\u001b[0m     kwargs\u001b[39m.\u001b[39mpop(\u001b[39m\"\u001b[39m\u001b[39mcharset\u001b[39m\u001b[39m\"\u001b[39m, \u001b[39mNone\u001b[39;00m),\n\u001b[1;32m   1241\u001b[0m     kwargs\u001b[39m.\u001b[39mpop(\u001b[39m\"\u001b[39m\u001b[39mcollation\u001b[39m\u001b[39m\"\u001b[39m, \u001b[39mNone\u001b[39;00m),\n\u001b[1;32m   1242\u001b[0m )\n\u001b[1;32m   1243\u001b[0m \u001b[39mif\u001b[39;00m charset \u001b[39mor\u001b[39;00m collation:\n",
      "File \u001b[0;32m/Library/Frameworks/Python.framework/Versions/3.11/lib/python3.11/site-packages/mysql/connector/connection_cext.py:313\u001b[0m, in \u001b[0;36mCMySQLConnection._open_connection\u001b[0;34m(self)\u001b[0m\n\u001b[1;32m    311\u001b[0m         \u001b[39mself\u001b[39m\u001b[39m.\u001b[39mconverter\u001b[39m.\u001b[39mstr_fallback \u001b[39m=\u001b[39m \u001b[39mself\u001b[39m\u001b[39m.\u001b[39m_converter_str_fallback\n\u001b[1;32m    312\u001b[0m \u001b[39mexcept\u001b[39;00m MySQLInterfaceError \u001b[39mas\u001b[39;00m err:\n\u001b[0;32m--> 313\u001b[0m     \u001b[39mraise\u001b[39;00m get_mysql_exception(\n\u001b[1;32m    314\u001b[0m         msg\u001b[39m=\u001b[39;49merr\u001b[39m.\u001b[39;49mmsg, errno\u001b[39m=\u001b[39;49merr\u001b[39m.\u001b[39;49merrno, sqlstate\u001b[39m=\u001b[39;49merr\u001b[39m.\u001b[39;49msqlstate\n\u001b[1;32m    315\u001b[0m     ) \u001b[39mfrom\u001b[39;00m \u001b[39merr\u001b[39;00m\n\u001b[1;32m    317\u001b[0m \u001b[39mself\u001b[39m\u001b[39m.\u001b[39m_do_handshake()\n",
      "File \u001b[0;32m/Library/Frameworks/Python.framework/Versions/3.11/lib/python3.11/site-packages/mysql/connector/errors.py:216\u001b[0m, in \u001b[0;36mget_mysql_exception\u001b[0;34m(errno, msg, sqlstate, warning)\u001b[0m\n\u001b[1;32m    211\u001b[0m         _CUSTOM_ERROR_EXCEPTIONS[errno] \u001b[39m=\u001b[39m _exception\n\u001b[1;32m    213\u001b[0m     \u001b[39mreturn\u001b[39;00m _CUSTOM_ERROR_EXCEPTIONS\n\u001b[0;32m--> 216\u001b[0m \u001b[39mdef\u001b[39;00m \u001b[39mget_mysql_exception\u001b[39m(\n\u001b[1;32m    217\u001b[0m     errno: \u001b[39mint\u001b[39m,\n\u001b[1;32m    218\u001b[0m     msg: Optional[\u001b[39mstr\u001b[39m] \u001b[39m=\u001b[39m \u001b[39mNone\u001b[39;00m,\n\u001b[1;32m    219\u001b[0m     sqlstate: Optional[\u001b[39mstr\u001b[39m] \u001b[39m=\u001b[39m \u001b[39mNone\u001b[39;00m,\n\u001b[1;32m    220\u001b[0m     warning: Optional[\u001b[39mbool\u001b[39m] \u001b[39m=\u001b[39m \u001b[39mFalse\u001b[39;00m,\n\u001b[1;32m    221\u001b[0m ) \u001b[39m-\u001b[39m\u001b[39m>\u001b[39m ErrorTypes:\n\u001b[1;32m    222\u001b[0m \u001b[39m    \u001b[39m\u001b[39m\"\"\"Get the exception matching the MySQL error\u001b[39;00m\n\u001b[1;32m    223\u001b[0m \n\u001b[1;32m    224\u001b[0m \u001b[39m    This function will return an exception based on the SQLState. The given\u001b[39;00m\n\u001b[0;32m   (...)\u001b[0m\n\u001b[1;32m    230\u001b[0m \u001b[39m    Returns an Exception\u001b[39;00m\n\u001b[1;32m    231\u001b[0m \u001b[39m    \"\"\"\u001b[39;00m\n\u001b[1;32m    232\u001b[0m     \u001b[39mtry\u001b[39;00m:\n",
      "\u001b[0;31mKeyboardInterrupt\u001b[0m: "
     ]
    }
   ],
   "source": [
    "config = {\n",
    "        'user': 'root',\n",
    "        'password': 'aXbT|^DvTzMf%uga',\n",
    "        'host': '34.69.56.41',\n",
    "        'database': 'token_store',\n",
    "        'raise_on_warnings': True\n",
    "    }\n",
    "\n",
    "cnx = mysql.connector.connect(**config)\n",
    "cursor = cnx.cursor()"
   ]
  },
  {
   "cell_type": "code",
   "execution_count": 13,
   "metadata": {},
   "outputs": [
    {
     "ename": "NameError",
     "evalue": "name 'cursor' is not defined",
     "output_type": "error",
     "traceback": [
      "\u001b[0;31m---------------------------------------------------------------------------\u001b[0m",
      "\u001b[0;31mNameError\u001b[0m                                 Traceback (most recent call last)",
      "\u001b[1;32m/Users/chinardankhara/Documents/GitHub/EvoCal/workbench.ipynb Cell 4\u001b[0m line \u001b[0;36m3\n\u001b[1;32m      <a href='vscode-notebook-cell:/Users/chinardankhara/Documents/GitHub/EvoCal/workbench.ipynb#W5sZmlsZQ%3D%3D?line=0'>1</a>\u001b[0m token \u001b[39m=\u001b[39m \u001b[39m\"\u001b[39m\u001b[39mya29.a0AfB_byAiB2vHd0svYuau3LloiJ_4Tn1RyXjJt5z7xuwdhSQvTy0-AaAjqwpG3lKY_F2P0DoH8WueepWyA-rq3--0w8oY-QkXwcgaPDHj6iYDtzK_erFZFiU4PgebqtXu8YtUJ_p_TRTTCoGM9y7xE8X39cEkA00qTyEvaCgYKAVASARESFQHGX2MiRb4OMam-2-EFUEJ1KhqEkQ0171\u001b[39m\u001b[39m\"\u001b[39m\n\u001b[1;32m      <a href='vscode-notebook-cell:/Users/chinardankhara/Documents/GitHub/EvoCal/workbench.ipynb#W5sZmlsZQ%3D%3D?line=1'>2</a>\u001b[0m query \u001b[39m=\u001b[39m \u001b[39m\"\u001b[39m\u001b[39minsert into token_store (token_string, last_seen) values (\u001b[39m\u001b[39m%s\u001b[39;00m\u001b[39m, \u001b[39m\u001b[39m%s\u001b[39;00m\u001b[39m)\u001b[39m\u001b[39m\"\u001b[39m\n\u001b[0;32m----> <a href='vscode-notebook-cell:/Users/chinardankhara/Documents/GitHub/EvoCal/workbench.ipynb#W5sZmlsZQ%3D%3D?line=2'>3</a>\u001b[0m cursor\u001b[39m.\u001b[39mexecute(query, (token, datetime\u001b[39m.\u001b[39mnow()))\n\u001b[1;32m      <a href='vscode-notebook-cell:/Users/chinardankhara/Documents/GitHub/EvoCal/workbench.ipynb#W5sZmlsZQ%3D%3D?line=3'>4</a>\u001b[0m \u001b[39mfor\u001b[39;00m (token_string) \u001b[39min\u001b[39;00m cursor:\n\u001b[1;32m      <a href='vscode-notebook-cell:/Users/chinardankhara/Documents/GitHub/EvoCal/workbench.ipynb#W5sZmlsZQ%3D%3D?line=4'>5</a>\u001b[0m     \u001b[39mprint\u001b[39m(token_string)\n",
      "\u001b[0;31mNameError\u001b[0m: name 'cursor' is not defined"
     ]
    }
   ],
   "source": [
    "token = \"ya29.a0AfB_byAiB2vHd0svYuau3LloiJ_4Tn1RyXjJt5z7xuwdhSQvTy0-AaAjqwpG3lKY_F2P0DoH8WueepWyA-rq3--0w8oY-QkXwcgaPDHj6iYDtzK_erFZFiU4PgebqtXu8YtUJ_p_TRTTCoGM9y7xE8X39cEkA00qTyEvaCgYKAVASARESFQHGX2MiRb4OMam-2-EFUEJ1KhqEkQ0171\"\n",
    "query = \"insert into token_store (token_string, last_seen) values (%s, %s)\"\n",
    "cursor.execute(query, (token, datetime.now()))\n",
    "for (token_string) in cursor:\n",
    "    print(token_string)\n",
    "cnx.commit()"
   ]
  },
  {
   "cell_type": "code",
   "execution_count": 14,
   "metadata": {},
   "outputs": [
    {
     "ename": "NameError",
     "evalue": "name 'cursor' is not defined",
     "output_type": "error",
     "traceback": [
      "\u001b[0;31m---------------------------------------------------------------------------\u001b[0m",
      "\u001b[0;31mNameError\u001b[0m                                 Traceback (most recent call last)",
      "\u001b[1;32m/Users/chinardankhara/Documents/GitHub/EvoCal/workbench.ipynb Cell 5\u001b[0m line \u001b[0;36m2\n\u001b[1;32m      <a href='vscode-notebook-cell:/Users/chinardankhara/Documents/GitHub/EvoCal/workbench.ipynb#W6sZmlsZQ%3D%3D?line=0'>1</a>\u001b[0m query \u001b[39m=\u001b[39m \u001b[39m\"\u001b[39m\u001b[39mselect * from token_store\u001b[39m\u001b[39m\"\u001b[39m\n\u001b[0;32m----> <a href='vscode-notebook-cell:/Users/chinardankhara/Documents/GitHub/EvoCal/workbench.ipynb#W6sZmlsZQ%3D%3D?line=1'>2</a>\u001b[0m cursor\u001b[39m.\u001b[39mexecute(query)\n\u001b[1;32m      <a href='vscode-notebook-cell:/Users/chinardankhara/Documents/GitHub/EvoCal/workbench.ipynb#W6sZmlsZQ%3D%3D?line=2'>3</a>\u001b[0m \u001b[39mfor\u001b[39;00m (token_string, last_seen) \u001b[39min\u001b[39;00m cursor:\n\u001b[1;32m      <a href='vscode-notebook-cell:/Users/chinardankhara/Documents/GitHub/EvoCal/workbench.ipynb#W6sZmlsZQ%3D%3D?line=3'>4</a>\u001b[0m     \u001b[39mprint\u001b[39m(token_string, last_seen)\n",
      "\u001b[0;31mNameError\u001b[0m: name 'cursor' is not defined"
     ]
    }
   ],
   "source": [
    "query = \"select * from token_store\"\n",
    "cursor.execute(query)\n",
    "for (token_string, last_seen) in cursor:\n",
    "    print(token_string, last_seen)\n",
    "cnx.commit()"
   ]
  },
  {
   "cell_type": "code",
   "execution_count": 15,
   "metadata": {},
   "outputs": [
    {
     "name": "stdout",
     "output_type": "stream",
     "text": [
      "<Response [404]>\n"
     ]
    }
   ],
   "source": [
    "url = \"http://127.0.0.1:5000/process_file\"\n",
    "token = \"\"\"From: GT Computing <communications@cc.gatech.edu>\n",
    "Sent: 17 November 2023 14:23\n",
    "To: Dankhara, Chinar D <cdankhara3@gatech.edu>\n",
    "Subject: Connecting Computing, Culture & Community\n",
    "\n",
    "News for the GT Computing Community\n",
    "[https://mcusercontent.com/de853fab347fb5756a5423781/images/355d744d-b8c4-b5b2-7061-39967b3f0ff1.jpg] <https://gatech.us1.list-manage.com/track/click?u=de853fab347fb5756a5423781&id=7e0f15bf41&e=98d5d65eba>\n",
    "News for the GT Computing Community\n",
    "November 17, 2023\n",
    "View this email in your browser<https://mailchi.mp/cc/gt-computing-compiler-17nov23?e=98d5d65eba>\n",
    "[https://mcusercontent.com/de853fab347fb5756a5423781/images/5249e84d-6b6c-2579-a083-1efc50a8be17.jpg] <https://gatech.us1.list-manage.com/track/click?u=de853fab347fb5756a5423781&id=b6a33b90d3&e=98d5d65eba>\n",
    "Connecting Computing, Culture, and Community\n",
    "As Atlanta was rounding out its celebration of the 50th anniversary of hip-hop earlier this year, GT Computing’s Sababu Barashango saw an opportunity. Barashango is a Constellations Fellow. His job is to broaden access by bringing computing education to the community. So, when he heard about the 1st Annual Hip Hop Arts Conference, he recognized the chance to share his knowledge about how hip-hop culture and computing connect<https://gatech.us1.list-manage.com/track/click?u=de853fab347fb5756a5423781&id=65355a8718&e=98d5d65eba>.\n",
    "\n",
    "[http://gallery.mailchimp.com/de853fab347fb5756a5423781/images/c389cb0f-e64a-489b-90ff-be44a15bb743.png] What's New\n",
    "[https://mcusercontent.com/de853fab347fb5756a5423781/images/afd0ce51-97c8-aa43-394d-c26e18fcf1c4.jpg] <https://gatech.us1.list-manage.com/track/click?u=de853fab347fb5756a5423781&id=1510f207f2&e=98d5d65eba>\n",
    "Georgia Tech Awarded $1.5M to Build People-Centric Network for National Research Database<https://gatech.us1.list-manage.com/track/click?u=de853fab347fb5756a5423781&id=013f4c9fc8&e=98d5d65eba>\n",
    "[https://mcusercontent.com/de853fab347fb5756a5423781/images/735b9801-2c7c-c0bd-ce25-916163e15ae0.jpg] <https://gatech.us1.list-manage.com/track/click?u=de853fab347fb5756a5423781&id=9ec9587d70&e=98d5d65eba>\n",
    "Capstone Expo Seeks Volunteers to Judge Student Projects<https://gatech.us1.list-manage.com/track/click?u=de853fab347fb5756a5423781&id=14ed0a8950&e=98d5d65eba>\n",
    "[https://mcusercontent.com/de853fab347fb5756a5423781/images/625e42c8-c2d4-0410-be74-40ea231e7681.jpg] <https://gatech.us1.list-manage.com/track/click?u=de853fab347fb5756a5423781&id=f596b16ce1&e=98d5d65eba>\n",
    "Georgia Tech Hosts Workshop to Propel Scientific Artificial Intelligence Research<https://gatech.us1.list-manage.com/track/click?u=de853fab347fb5756a5423781&id=185d589d50&e=98d5d65eba>\n",
    "[http://gallery.mailchimp.com/de853fab347fb5756a5423781/images/c389cb0f-e64a-489b-90ff-be44a15bb743.png] Conference Connection\n",
    "[https://mcusercontent.com/de853fab347fb5756a5423781/images/4e004125-27e3-1d9a-a863-d919f051282d.jpg] <https://gatech.us1.list-manage.com/track/click?u=de853fab347fb5756a5423781&id=5179eec03c&e=98d5d65eba>\n",
    "Research Impact & Leadership at the 2023 ACM Conference on Computer and Communications Security<https://gatech.us1.list-manage.com/track/click?u=de853fab347fb5756a5423781&id=82c2f4543b&e=98d5d65eba>\n",
    "[http://gallery.mailchimp.com/de853fab347fb5756a5423781/images/c389cb0f-e64a-489b-90ff-be44a15bb743.png] Calendar\n",
    "Nov. 20\n",
    "Solving the Policy Puzzle of Generative AI<https://gatech.us1.list-manage.com/track/click?u=de853fab347fb5756a5423781&id=45dc49593f&e=98d5d65eba>\n",
    "12:30 - 1:30 p.m.\n",
    "Virtual\n",
    "Nov. 22 - 23\n",
    "Thanksgiving Break - no classes<https://gatech.us1.list-manage.com/track/click?u=de853fab347fb5756a5423781&id=3419d87642&e=98d5d65eba>\n",
    "Nov. 27\n",
    "Lifetime Learning Campus Info Session<https://gatech.us1.list-manage.com/track/click?u=de853fab347fb5756a5423781&id=be30cb8d24&e=98d5d65eba>\n",
    "9:30 - 10:30 a.m.\n",
    "Clary Theatre, Student Success Center\n",
    "Nov. 28\n",
    "Sustainable-X Hangout<https://gatech.us1.list-manage.com/track/click?u=de853fab347fb5756a5423781&id=abd21427ea&e=98d5d65eba>\n",
    "3 - 4 p.m.\n",
    "Hybrid / Scheller College of Business, Room 4426\"\"\"\n",
    "data = {'data': token}\n",
    "response = requests.post(url, json=data)\n",
    "print(response)"
   ]
  },
  {
   "cell_type": "code",
   "execution_count": null,
   "metadata": {},
   "outputs": [],
   "source": []
  },
  {
   "cell_type": "code",
   "execution_count": 17,
   "metadata": {},
   "outputs": [
    {
     "name": "stdout",
     "output_type": "stream",
     "text": [
      "<Response [404]>\n"
     ]
    }
   ],
   "source": [
    "url = \" https://hello-3l6j2umkza-vp.a.run.app\"\n",
    "data = {'data': 'token'}\n",
    "response = requests.post(url, json=data)\n",
    "print(response)"
   ]
  },
  {
   "cell_type": "code",
   "execution_count": null,
   "metadata": {},
   "outputs": [],
   "source": []
  }
 ],
 "metadata": {
  "kernelspec": {
   "display_name": "Python 3",
   "language": "python",
   "name": "python3"
  },
  "language_info": {
   "codemirror_mode": {
    "name": "ipython",
    "version": 3
   },
   "file_extension": ".py",
   "mimetype": "text/x-python",
   "name": "python",
   "nbconvert_exporter": "python",
   "pygments_lexer": "ipython3",
   "version": "3.11.4"
  }
 },
 "nbformat": 4,
 "nbformat_minor": 2
}
